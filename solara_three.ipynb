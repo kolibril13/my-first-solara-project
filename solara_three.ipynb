{
 "cells": [
  {
   "cell_type": "code",
   "execution_count": null,
   "metadata": {},
   "outputs": [],
   "source": [
    "from pythreejs import BoxGeometry\n",
    "from IPython.display import display\n",
    "import solara"
   ]
  },
  {
   "cell_type": "code",
   "execution_count": null,
   "metadata": {},
   "outputs": [],
   "source": [
    "int_value = solara.reactive(4)\n",
    "@solara.component\n",
    "def Page():\n",
    "    solara.FloatSlider(\"Some integer\", value=int_value, min=1, max=10)\n",
    "    b = BoxGeometry(\n",
    "        width=int_value.value,\n",
    "        height=10,\n",
    "        depth=15,\n",
    "        widthSegments=5,\n",
    "        heightSegments=10,\n",
    "        depthSegments=15)\n",
    "    display(b)\n",
    "Page()"
   ]
  },
  {
   "cell_type": "code",
   "execution_count": null,
   "metadata": {},
   "outputs": [],
   "source": []
  }
 ],
 "metadata": {
  "kernelspec": {
   "display_name": "Python 3 (ipykernel)",
   "language": "python",
   "name": "python3"
  },
  "language_info": {
   "codemirror_mode": {
    "name": "ipython",
    "version": 3
   },
   "file_extension": ".py",
   "mimetype": "text/x-python",
   "name": "python",
   "nbconvert_exporter": "python",
   "pygments_lexer": "ipython3",
   "version": "3.11.6"
  }
 },
 "nbformat": 4,
 "nbformat_minor": 4
}
