{
 "cells": [
  {
   "cell_type": "code",
   "execution_count": null,
   "metadata": {},
   "outputs": [],
   "source": [
    "from manim import *\n",
    "from manim_mobject_svg import *\n",
    "\n",
    "a = Square(color=BLUE)\n",
    "a.scale(2)\n",
    "\n",
    "import solara\n",
    "\n",
    "int_value = solara.reactive(42)\n",
    "\n",
    "\n",
    "@solara.component\n",
    "def Page():\n",
    "    solara.FloatSlider(\"Some integer\", value=int_value, min=1, max=20)\n",
    "    solara.Markdown(f\"**Int value**: {int_value.value}\")\n",
    "    display(a.scale_to_fit_height( int_value.value))\n",
    "    with solara.Row():\n",
    "        solara.Button(\"Reset\", on_click=lambda: int_value.set(42))\n",
    "Page()\n"
   ]
  },
  {
   "cell_type": "code",
   "execution_count": null,
   "metadata": {},
   "outputs": [],
   "source": []
  }
 ],
 "metadata": {
  "kernelspec": {
   "display_name": "napari-env2",
   "language": "python",
   "name": "python3"
  },
  "language_info": {
   "codemirror_mode": {
    "name": "ipython",
    "version": 3
   },
   "file_extension": ".py",
   "mimetype": "text/x-python",
   "name": "python",
   "nbconvert_exporter": "python",
   "pygments_lexer": "ipython3",
   "version": "3.9.15"
  },
  "orig_nbformat": 4
 },
 "nbformat": 4,
 "nbformat_minor": 2
}
