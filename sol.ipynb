{
 "cells": [
  {
   "cell_type": "code",
   "execution_count": null,
   "metadata": {},
   "outputs": [],
   "source": [
    "import solara\n",
    "\n",
    "import ipyreact\n",
    "from traitlets import Unicode\n",
    "\n",
    "class QRCodeWidget(ipyreact.ReactWidget):\n",
    "    content = Unicode(\"\").tag(sync=True)\n",
    "    _esm = \"\"\"\n",
    "    import React from \"react\";\n",
    "    import QRCode from \"react-qr-code\";\n",
    "\n",
    "    export default function App({ content }) {\n",
    "      return <QRCode value={content} />\n",
    "    }\n",
    "\n",
    "    \"\"\"\n",
    "    \n",
    "q = QRCodeWidget(content=str(999))\n",
    "\n",
    "int_value = solara.reactive(3)\n",
    "\n",
    "\n",
    "@solara.component\n",
    "def Page():\n",
    "    solara.FloatSlider(\"Some integer\", value=int_value, min=0, max=10, step=0.1)\n",
    "    solara.Markdown(f\"**Int value**: {int_value.value}\")\n",
    "    QRCodeWidget.element(content=str(int_value.value))\n",
    "\n",
    "    with solara.Row():\n",
    "        solara.Button(\"Reset\", on_click=lambda: int_value.set(3))\n",
    "Page()\n"
   ]
  },
  {
   "cell_type": "code",
   "execution_count": null,
   "metadata": {},
   "outputs": [],
   "source": []
  }
 ],
 "metadata": {
  "kernelspec": {
   "display_name": ".venv",
   "language": "python",
   "name": "python3"
  },
  "language_info": {
   "codemirror_mode": {
    "name": "ipython",
    "version": 3
   },
   "file_extension": ".py",
   "mimetype": "text/x-python",
   "name": "python",
   "nbconvert_exporter": "python",
   "pygments_lexer": "ipython3",
   "version": "3.11.3"
  },
  "orig_nbformat": 4
 },
 "nbformat": 4,
 "nbformat_minor": 2
}
