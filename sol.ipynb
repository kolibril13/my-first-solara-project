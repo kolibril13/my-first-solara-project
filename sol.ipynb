{
 "cells": [
  {
   "cell_type": "code",
   "execution_count": null,
   "metadata": {},
   "outputs": [],
   "source": [
    "import ipyreact\n",
    "from traitlets import List, Any\n",
    "import numpy as np\n",
    "\n",
    "class TldrawSineWidget(ipyreact.ReactWidget):\n",
    "    points = List(List(Any())).tag(sync=True)\n",
    "    _esm = \"\"\"\n",
    "    import { TDShapeType, Tldraw } from \"@tldraw/tldraw\";\n",
    "    import * as React from \"react\";\n",
    "\n",
    "    export default function App({ points }) {\n",
    "\n",
    "        const [app, setApp] = React.useState()\n",
    "\n",
    "        const handleMount = React.useCallback((app: Tldraw) => {\n",
    "            setApp(app)\n",
    "        }, []);\n",
    "\n",
    "        React.useEffect(() => {\n",
    "            if (app) {\n",
    "            app.createShapes({\n",
    "                type: \"draw\",\n",
    "                id: \"draw1\",\n",
    "                color: 'red',\n",
    "                points: points,\n",
    "            });\n",
    "            }\n",
    "        }, [points, app])\n",
    "\n",
    "        return (\n",
    "            <div\n",
    "            style={{\n",
    "                position: \"relative\",\n",
    "                width: \"800px\",\n",
    "                height: \"350px\",\n",
    "            }}\n",
    "            >\n",
    "            <Tldraw onMount={handleMount} onChange={e => console.log(\"hii\")} />\n",
    "            </div>\n",
    "        );\n",
    "}\n",
    "\n",
    "    \"\"\"\n",
    "\n",
    "# x = np.arange(0, 600, 1)\n",
    "# y = 100*np.sin(x*0.01*np.pi)+150\n",
    "\n",
    "# points = np.column_stack((x, y)).tolist()\n",
    "\n",
    "# t = TldrawSineWidget(points=points)\n",
    "# t"
   ]
  },
  {
   "cell_type": "code",
   "execution_count": null,
   "metadata": {},
   "outputs": [],
   "source": [
    "import solara\n",
    "import numpy as np\n",
    "\n",
    "float_value = solara.reactive(0)\n",
    "\n",
    "@solara.component\n",
    "def Page():\n",
    "    solara.FloatSlider(\"Some float\", value=float_value, min=0, max=4*np.pi, step=0.1)\n",
    "    solara.Markdown(f\"**Float value**: {float_value.value}\")\n",
    "    stretchx = 50\n",
    "    x = np.arange(0,4*np.pi*stretchx , 2)\n",
    "    y = 130*np.sin(x*1/stretchx+float_value.value)+150\n",
    "\n",
    "    points = np.column_stack((x, y)).tolist()\n",
    "    TldrawSineWidget.element(points=points)\n",
    "\n",
    "    with solara.Row():\n",
    "        solara.Button(\"Reset\", on_click=lambda: float_value.set(0))\n",
    "Page()"
   ]
  },
  {
   "cell_type": "code",
   "execution_count": null,
   "metadata": {},
   "outputs": [],
   "source": []
  }
 ],
 "metadata": {
  "kernelspec": {
   "display_name": ".venv",
   "language": "python",
   "name": "python3"
  },
  "language_info": {
   "codemirror_mode": {
    "name": "ipython",
    "version": 3
   },
   "file_extension": ".py",
   "mimetype": "text/x-python",
   "name": "python",
   "nbconvert_exporter": "python",
   "pygments_lexer": "ipython3",
   "version": "3.11.3"
  },
  "orig_nbformat": 4
 },
 "nbformat": 4,
 "nbformat_minor": 2
}
