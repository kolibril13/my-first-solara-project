{
 "cells": [
  {
   "cell_type": "code",
   "execution_count": 2,
   "metadata": {},
   "outputs": [
    {
     "data": {
      "application/vnd.jupyter.widget-view+json": {
       "model_id": "97f79923204444dd8a00a5ce5992be02",
       "version_major": 2,
       "version_minor": 0
      },
      "text/html": [
       "Cannot show widget. You probably want to rerun the code cell above (<i>Click in the code cell, and press Shift+Enter <kbd>⇧</kbd>+<kbd>↩</kbd></i>)."
      ],
      "text/plain": [
       "Cannot show ipywidgets in text"
      ]
     },
     "metadata": {},
     "output_type": "display_data"
    }
   ],
   "source": [
    "import solara\n",
    "\n",
    "import ipyreact\n",
    "from traitlets import Unicode\n",
    "\n",
    "class QRCodeWidget(ipyreact.ReactWidget):\n",
    "    content = Unicode(\"\").tag(sync=True)\n",
    "    _esm = \"\"\"\n",
    "    import React from \"react\";\n",
    "    import QRCode from \"react-qr-code\";\n",
    "\n",
    "    export default function App({ content }) {\n",
    "      return <QRCode value={content} />\n",
    "    }\n",
    "\n",
    "    \"\"\"\n",
    "    \n",
    "q = QRCodeWidget(content=str(999))\n",
    "\n",
    "float_value = solara.reactive(3)\n",
    "\n",
    "\n",
    "@solara.component\n",
    "def Page():\n",
    "    solara.FloatSlider(\"Some float\", value=float_value, min=0, max=10, step=0.1)\n",
    "    solara.Markdown(f\"**Float value**: {float_value.value}\")\n",
    "    QRCodeWidget.element(content=str(float_value.value))\n",
    "\n",
    "    with solara.Row():\n",
    "        solara.Button(\"Reset\", on_click=lambda: float_value.set(3))\n",
    "Page()\n"
   ]
  },
  {
   "cell_type": "code",
   "execution_count": null,
   "metadata": {},
   "outputs": [],
   "source": []
  },
  {
   "cell_type": "code",
   "execution_count": null,
   "metadata": {},
   "outputs": [],
   "source": [
    "import ipyreact\n",
    "from traitlets import List, Any\n",
    "import numpy as np\n",
    "\n",
    "class TldrawSineWidget(ipyreact.ReactWidget):\n",
    "    points = List(List(Any())).tag(sync=True)\n",
    "    _esm = \"\"\"\n",
    "    import { TDShapeType, Tldraw } from \"@tldraw/tldraw\";\n",
    "    import * as React from \"react\";\n",
    "\n",
    "    export default function App({ points }) {\n",
    "\n",
    "        const [app, setApp] = React.useState()\n",
    "\n",
    "        const handleMount = React.useCallback((app: Tldraw) => {\n",
    "            setApp(app)\n",
    "        }, []);\n",
    "\n",
    "        React.useEffect(() => {\n",
    "            if (app) {\n",
    "            app.createShapes({\n",
    "                type: \"draw\",\n",
    "                id: \"draw1\",\n",
    "                color: 'red',\n",
    "                points: points,\n",
    "            });\n",
    "            }\n",
    "        }, [points, app])\n",
    "\n",
    "        return (\n",
    "            <div\n",
    "            style={{\n",
    "                position: \"relative\",\n",
    "                width: \"800px\",\n",
    "                height: \"350px\",\n",
    "            }}\n",
    "            >\n",
    "            <Tldraw onMount={handleMount} onChange={e => console.log(\"hii\")} />\n",
    "            </div>\n",
    "        );\n",
    "}\n",
    "\n",
    "    \"\"\"\n",
    "\n",
    "x = np.arange(0, 600, 1)\n",
    "y = 100*np.sin(x*0.01*np.pi)+150\n",
    "\n",
    "points = np.column_stack((x, y)).tolist()\n",
    "\n",
    "t = TldrawSineWidget(points=points)\n",
    "t"
   ]
  }
 ],
 "metadata": {
  "kernelspec": {
   "display_name": ".venv",
   "language": "python",
   "name": "python3"
  },
  "language_info": {
   "codemirror_mode": {
    "name": "ipython",
    "version": 3
   },
   "file_extension": ".py",
   "mimetype": "text/x-python",
   "name": "python",
   "nbconvert_exporter": "python",
   "pygments_lexer": "ipython3",
   "version": "3.11.3"
  },
  "orig_nbformat": 4
 },
 "nbformat": 4,
 "nbformat_minor": 2
}
