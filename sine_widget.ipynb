{
 "cells": [
  {
   "cell_type": "code",
   "execution_count": null,
   "metadata": {},
   "outputs": [],
   "source": [
    "import ipyreact\n",
    "from traitlets import List, Any\n",
    "import numpy as np\n",
    "\n",
    "class TldrawSineWidget(ipyreact.ReactWidget):\n",
    "    points = List(List(Any())).tag(sync=True)\n",
    "    _esm = \"\"\"\n",
    "    import { TDShapeType, Tldraw } from \"@tldraw/tldraw\";\n",
    "    import * as React from \"react\";\n",
    "\n",
    "    export default function App({ points }) {\n",
    "\n",
    "        const [app, setApp] = React.useState()\n",
    "\n",
    "        const handleMount = React.useCallback((app: Tldraw) => {\n",
    "            setApp(app)\n",
    "        }, []);\n",
    "\n",
    "        React.useEffect(() => {\n",
    "            if (app) {\n",
    "            app.createShapes({\n",
    "                type: \"draw\",\n",
    "                id: \"draw1\",\n",
    "                color: 'red',\n",
    "                points: points,\n",
    "            });\n",
    "            }\n",
    "        }, [points, app])\n",
    "\n",
    "        return (\n",
    "            <div\n",
    "            style={{\n",
    "                position: \"relative\",\n",
    "                width: \"800px\",\n",
    "                height: \"350px\",\n",
    "            }}\n",
    "            >\n",
    "            <Tldraw onMount={handleMount} onChange={e => console.log(\"hii\")} />\n",
    "            </div>\n",
    "        );\n",
    "}\n",
    "\n",
    "    \"\"\"\n",
    "\n",
    "x = np.arange(0, 600, 1)\n",
    "y = 100*np.sin(x*0.01*np.pi)+150\n",
    "\n",
    "points = np.column_stack((x, y)).tolist()\n",
    "\n",
    "t = TldrawSineWidget(points=points)\n",
    "t"
   ]
  },
  {
   "cell_type": "code",
   "execution_count": null,
   "metadata": {},
   "outputs": [],
   "source": [
    "x = np.arange(0, 600, 1)\n",
    "y = 100*np.sin(x*0.01*np.pi+3)+150\n",
    "\n",
    "points = np.column_stack((x, y)).tolist()\n",
    "\n",
    "t.points= points"
   ]
  },
  {
   "cell_type": "code",
   "execution_count": null,
   "metadata": {},
   "outputs": [],
   "source": [
    "x = np.arange(0, 600, 1)\n",
    "y = 100*np.sin(x*0.01*np.pi+4)+150\n",
    "\n",
    "points = np.column_stack((x, y)).tolist()\n",
    "\n",
    "t.points= points"
   ]
  },
  {
   "cell_type": "code",
   "execution_count": null,
   "metadata": {},
   "outputs": [],
   "source": []
  }
 ],
 "metadata": {
  "kernelspec": {
   "display_name": ".venv",
   "language": "python",
   "name": "python3"
  },
  "language_info": {
   "codemirror_mode": {
    "name": "ipython",
    "version": 3
   },
   "file_extension": ".py",
   "mimetype": "text/x-python",
   "name": "python",
   "nbconvert_exporter": "python",
   "pygments_lexer": "ipython3",
   "version": "3.11.3"
  },
  "orig_nbformat": 4
 },
 "nbformat": 4,
 "nbformat_minor": 2
}
